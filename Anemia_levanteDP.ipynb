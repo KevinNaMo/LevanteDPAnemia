{
 "cells": [
  {
   "cell_type": "markdown",
   "id": "562d5e62-a478-4074-a234-e78d27d3b7ba",
   "metadata": {},
   "source": [
    "# Anemia en Diálisis Peritoneal"
   ]
  },
  {
   "cell_type": "code",
   "execution_count": null,
   "id": "ba3822bb-2787-4190-8ead-31384ad99a6e",
   "metadata": {},
   "outputs": [],
   "source": [
    "from lifelines import CoxPHFitter\n",
    "from lifelines import CoxTimeVaryingFitter\n",
    "from lifelines.utils import to_long_format\n",
    "from lifelines.utils import add_covariate_to_timeline\n",
    "import matplotlib.pyplot as plt\n",
    "import pandas as pd\n",
    "from sksurv.ensemble import RandomSurvivalForest\n",
    "\n",
    "import anemiaLevanteDP as a"
   ]
  },
  {
   "cell_type": "markdown",
   "id": "ff027c29-ef6c-4edd-8c9f-ba79f71194c2",
   "metadata": {},
   "source": [
    "## Load Data"
   ]
  },
  {
   "cell_type": "code",
   "execution_count": null,
   "id": "ea256e1a-d858-4de7-948d-92e73c6a47a9",
   "metadata": {},
   "outputs": [],
   "source": [
    "# Load the data\n",
    "lab_base_df = pd.read_pickle('Analíticas.pkl')\n",
    "pac__base_df = pd.read_pickle('Pacientes.pkl')\n",
    "hosp_base_df = pd.read_pickle('Ingresos.pkl')\n",
    "per_base_df = pd.read_pickle('Peritonitis.pkl')\n",
    "\n",
    "# Merge labs with patients\n",
    "\n",
    "merged_base_df = a.merge_dataframes(lab_base_df, pac__base_df, 'REGISTRO')"
   ]
  },
  {
   "cell_type": "markdown",
   "id": "bbffc1ee-0569-405a-aea1-81122865ce1e",
   "metadata": {},
   "source": [
    "## Preprocesado de datos"
   ]
  },
  {
   "cell_type": "code",
   "execution_count": null,
   "id": "18380c87-5c2a-4e8f-b638-1249f72a732a",
   "metadata": {},
   "outputs": [],
   "source": [
    "# Cols to calculate baseline\n",
    "baseline_cat_cols = ['SEXO', 'CKD_STAGE', 'ARRITMIA', 'ITU', 'TBC', 'DM', 'VC', 'DIVERT', 'NEO', 'CH', 'SIST', 'EPOC', 'CARDIO', 'VP', 'DISLIPEMIA', 'DIURETICO', 'CALCIOANTA', 'IECA', 'ARAII', 'BBLOQUEANTE', 'ABLOQUEANTE', 'ABBLOQUEANTE', 'AGONISTASC', 'VASODILATADOR']\n",
    "baseline_num_cols = ['EDAD', 'CKD_CALC', 'GLUCOSA', 'UREA', 'CREATININA', 'URICO', 'SODIO', 'POTASIO', 'CALCIO', 'FOSFORO', 'HIERRO', 'TRANSFERRINA', 'IST', 'FERRITINA', 'COLESTEROL', 'TRIGLICERIDOS', 'HDL', 'LDL', 'LEUCOCITOS', 'NEUTROFILOS', 'LINFOCITOS', 'MONOCITOS', 'EOSINOFILOS', 'BASOFILOS', 'GRANULOCITOS', 'HEMATIES', 'HEMOGLOBINA', 'HEMATOCRITO', 'VCM', 'HCM', 'CHCM', 'PLAQUETAS', 'PLAQUETOCRITO', 'VPM']\n",
    "\n",
    "# Cols to clean rows without info\n",
    "basic_cols_lab = ['REGISTRO', 'FECHA', 'HEMOGLOBINA', 'HIERRO', 'TRANSFERRINA', 'IST', 'INICIO_DP', 'NACIMIENTO']\n",
    "basic_cols_hosp = ['REGISTRO', 'FINGRESO']\n",
    "basic_cols_per = ['REGISTRO', 'FECHA']\n",
    "\n",
    "# Cols that must be deleted if it constains 0 as value\n",
    "\n",
    "not_zero_cols = ['EDAD', 'GLUCOSA']\n",
    "\n",
    "# Cols for cox model\n",
    "bool_col_list = ['CARDIORENAL', 'PASO_A_HD', 'ARRITMIA', 'ITU', 'TBC', 'DM', 'VC', 'DIVERT', 'NEO', 'CH', 'SIST', 'EPOC', 'CARDIO', 'VP', 'DISLIPEMIA', 'FRAGNOS', 'DIURETICO', 'CALCIOANTA', 'IECA', 'ARAII', 'BBLOQUEANTE', 'ABLOQUEANTE', 'ABBLOQUEANTE', 'AGONISTASC', 'VASODILATADOR', 'OTROSFR', 'CIRUGIA']\n",
    "covariate_list = ['HEMOGLOBINA', 'IST', 'HIERRO', 'FERRITINA']\n",
    "exclude_list = ['TBC', 'CH', 'SIST', 'CARDIO', 'VP', 'VC', 'NEO', 'DIVERT']"
   ]
  },
  {
   "cell_type": "code",
   "execution_count": null,
   "id": "6ab4af2c-4e4c-48d1-9f1f-176e251cf5f9",
   "metadata": {},
   "outputs": [],
   "source": [
    "# Clean NaNs for interesting columns\n",
    "lab_df = a.clean_df(merged_base_df, basic_cols_lab, verbose=True)\n",
    "lab_df = a.clean_df(lab_df, covariate_list, verbose=True)\n",
    "hosp_df = a.clean_df(hosp_base_df, basic_cols_hosp, verbose=True)\n",
    "per_df = a.clean_df(per_base_df, basic_cols_per, verbose=True)\n",
    "\n",
    "# Select years\n",
    "lab_df, hosp_df, per_df = a.filter_by_year([lab_df, hosp_df, per_df], ['FECHA', 'FINGRESO', 'FECHA'], 2010, 2023)\n",
    "\n",
    "# Add anemia column based on 'HEMOGLOBINA' and 'SEXO' specified in KDIGO guidelines\n",
    "a.add_anemia_column(lab_df)\n",
    "a.add_age_column(lab_df)\n",
    "a.add_ckd_column(lab_df)\n",
    "\n",
    "# Delete rows that have 0 as values for not_zero_cols\n",
    "\n",
    "lab_df = a.clean_zero_values(lab_df, not_zero_cols, verbose=True)\n",
    "\n",
    "# Fill empty values for bool_cols\n",
    "lab_df = a.bool_col_convert(lab_df, bool_col_list)\n",
    "\n",
    "# Exclude patients with exclude_list\n",
    "#lab_df = lab_df[lab_df['ICEDAD'] <= 11]\n",
    "lab_df = a.exclude_patients(lab_df, exclude_list, verbose=True)\n",
    "\n",
    "# Add days since the start of pd for every column in both dataframes\n",
    "lab_df = a.add_days_since_start(lab_df, lab_df, 'FECHA')\n",
    "hosp_df = a.add_days_since_start(lab_df, hosp_df, 'FINGRESO')\n",
    "per_df = a.add_days_since_start(lab_df, per_df, 'FECHA')\n",
    "\n",
    "# Now keep only the first year after the patients started PD\n",
    "lab_df = a.filter_df(lab_df, 'days_since_start', 0, (365), verbose=True)\n",
    "hosp_df = a.filter_df(hosp_df, 'days_since_start', 0, (365), verbose=True)\n",
    "per_df = a.filter_df(per_df, 'days_since_start', 0, (365), verbose=True)\n",
    "\n",
    "# Create the cox_df with all necessary data\n",
    "cox_df = a.prepare_cox_df(lab_df, hosp_df, covariate_list)\n",
    "cox_time_varying_df = a.cox_time_varying_prep(lab_df, hosp_df, covariate_list, 365)\n",
    "\n",
    "cox_df_per = a.prepare_cox_df(lab_df, per_df, covariate_list)"
   ]
  },
  {
   "cell_type": "markdown",
   "id": "55881d59-1a47-4eda-89c1-d9b3301bbd50",
   "metadata": {},
   "source": [
    "## 6.1 Cox hemoglobina - hospitalización"
   ]
  },
  {
   "cell_type": "code",
   "execution_count": null,
   "id": "94acc38b-587f-4f0e-a87c-5773b5f740a0",
   "metadata": {},
   "outputs": [],
   "source": [
    "# Initialize the CoxPHFitter\n",
    "\n",
    "cph_hosp = CoxPHFitter()\n",
    "\n",
    "# Fit the data to the model\n",
    "cph_hosp.fit(cox_df, duration_col='finish_days', event_col='event_col')\n",
    "\n",
    "# Print the summary of the model\n",
    "cph_hosp.print_summary()\n",
    "\n",
    "# Plot the coefficients of the model\n",
    "cph_hosp.plot()\n",
    "plt.title('Coxph anemia - hospitalización')\n",
    "plt.show()"
   ]
  },
  {
   "cell_type": "code",
   "execution_count": null,
   "id": "505c6c20-b20e-4e23-aacd-51bf6db2ad79",
   "metadata": {},
   "outputs": [],
   "source": [
    "auc = a.evaluate_cox_model(cph_hosp, cox_df, 'finish_days', 'event_col', print_result=True)"
   ]
  },
  {
   "cell_type": "code",
   "execution_count": null,
   "id": "7dbf1ebd-1334-47dd-8e83-89b62edb6bb3",
   "metadata": {},
   "outputs": [],
   "source": [
    "a.calculate_residuals(cph_hosp, cox_df, martingale=True, schonenfeld=False)"
   ]
  },
  {
   "cell_type": "code",
   "execution_count": null,
   "id": "ce9bf415-8157-4e8d-8bad-6970339ed35e",
   "metadata": {},
   "outputs": [],
   "source": [
    "a.cox_visualization(cph_hosp, cox_df, survival_function=False, baseline_survival=True, baseline_cumulative_hazard=True, assumption=True) "
   ]
  },
  {
   "cell_type": "markdown",
   "id": "dbbec787-133b-4bc7-b126-27c1cc93f48e",
   "metadata": {},
   "source": [
    "### Cox IST stratification and ROC curve (covariates)"
   ]
  },
  {
   "cell_type": "code",
   "execution_count": null,
   "id": "b5a31e4d-2009-4b7b-8f1c-6b373a6233f7",
   "metadata": {},
   "outputs": [],
   "source": [
    "cph_models, aucs = a.stratified_cox(cox_df, 'finish_days', 'event_col', 'IST', [0, 20, 30, 999])"
   ]
  },
  {
   "cell_type": "markdown",
   "id": "cfa21fff-20f2-457b-ba9e-3d53bac967fb",
   "metadata": {},
   "source": [
    "### Cox IST stratification and ROC curve (IST only, without covariates)"
   ]
  },
  {
   "cell_type": "code",
   "execution_count": null,
   "id": "231eb31b-b45f-480d-98fb-e8209ba82af8",
   "metadata": {},
   "outputs": [],
   "source": [
    "basic_cols_lab_strat = ['REGISTRO', 'FECHA', 'INICIO_DP', 'NACIMIENTO']\n",
    "covariate_list_strat = ['IST']\n",
    "bool_col_list_strat = []\n",
    "exclude_list_strat = []\n",
    "basic_cols_hosp_strat = ['REGISTRO', 'FINGRESO']\n",
    "\n",
    "\n",
    "\n",
    "lab_strat_df = a.clean_df(merged_base_df, basic_cols_lab_strat, verbose=True)\n",
    "hosp_strat_df = a.clean_df(pd.read_pickle('Ingresos.pkl'), basic_cols_hosp_strat, verbose=True)\n",
    "lab_strat_df = a.clean_df(lab_strat_df, covariate_list_strat, verbose=True)\n",
    "\n",
    "lab_strat_df = a.bool_col_convert(lab_strat_df, bool_col_list_strat)\n",
    "lab_strat_df = a.exclude_patients(lab_strat_df, exclude_list_strat, verbose=True)\n",
    "\n",
    "lab_strat_df = a.add_days_since_start(lab_strat_df, lab_strat_df, 'FECHA')\n",
    "hosp_strat_df = a.add_days_since_start(lab_strat_df, hosp_strat_df, 'FINGRESO')\n",
    "\n",
    "lab_strat_df = a.filter_df(lab_strat_df, 'days_since_start', 0, (365), verbose=True)\n",
    "hosp_strat_df = a.filter_df(hosp_strat_df, 'days_since_start', 0, (365), verbose=True)\n",
    "\n",
    "cox_strat_tsi_df = a.prepare_cox_df(lab_strat_df, hosp_df, covariate_list_strat)\n",
    "\n",
    "cph_models, aucs = a.stratified_cox(cox_strat_tsi_df, 'finish_days', 'event_col', 'IST', [0, 20, 30, 999])"
   ]
  },
  {
   "cell_type": "markdown",
   "id": "0e0ab9d8-7d31-43b9-858d-61954625a326",
   "metadata": {},
   "source": [
    "## 6.3 Cox hemoglobina - peritonitis"
   ]
  },
  {
   "cell_type": "code",
   "execution_count": null,
   "id": "5b837601-35a5-4c91-8ac6-464d6862149c",
   "metadata": {},
   "outputs": [],
   "source": [
    "# Bin 'IST' and 'HIERRO' into discrete intervals\n",
    "cox_df_per_bin = cox_df_per\n",
    "cox_df_per_bin['IST_binned'] = pd.cut(cox_df_per_bin['IST'], bins=2, labels=False)\n",
    "cox_df_per_bin['HIERRO_binned'] = pd.cut(cox_df_per_bin['HIERRO'], bins=2, labels=False)\n",
    "\n",
    "# Initialize the CoxPHFitter\n",
    "cph_per_bin = CoxPHFitter()\n",
    "\n",
    "# Fit the data to the model with stratification on the binned variables\n",
    "cph_per_bin.fit(cox_df_per_bin, duration_col='finish_days', event_col='event_col', strata=['IST_binned', 'HIERRO_binned'])\n",
    "\n",
    "# Print the summary of the model\n",
    "cph_per_bin.print_summary()\n",
    "\n",
    "# Plot the coefficients of the model\n",
    "cph_per_bin.plot()\n",
    "plt.show()"
   ]
  },
  {
   "cell_type": "markdown",
   "id": "d5333ca4-f4bb-46e1-bf64-483732af48cd",
   "metadata": {},
   "source": [
    "#### Cox anemia-peritonitis residuals"
   ]
  },
  {
   "cell_type": "code",
   "execution_count": null,
   "id": "db133d6a-c109-4de4-bf74-6d359098f4f5",
   "metadata": {},
   "outputs": [],
   "source": [
    "a.calculate_residuals(cph_per_bin, cox_df_per_bin, martingale=True, schonenfeld=False)\n",
    "a.cox_visualization(cph_per_bin, cox_df_per_bin, survival_function=False, baseline_survival=True, baseline_cumulative_hazard=True, assumption=True) "
   ]
  },
  {
   "cell_type": "markdown",
   "id": "4276a07b-c13a-4df2-9cbd-808d45a1bf77",
   "metadata": {},
   "source": [
    "### Cox anemia-peritonitis without binning"
   ]
  },
  {
   "cell_type": "code",
   "execution_count": null,
   "id": "c7dd3f4f-b232-4f25-8a39-7b8d0a31e9a8",
   "metadata": {},
   "outputs": [],
   "source": [
    "# Initialize the CoxPHFitter\n",
    "cph_per = CoxPHFitter()\n",
    "\n",
    "# Fit the data to the model with stratification on the binned variables\n",
    "cph_per.fit(cox_df_per, duration_col='finish_days', event_col='event_col')\n",
    "\n",
    "# Print the summary of the model\n",
    "cph_per.print_summary()\n",
    "\n",
    "# Plot the coefficients of the model\n",
    "cph_per.plot()\n",
    "plt.show()"
   ]
  },
  {
   "cell_type": "markdown",
   "id": "49ce2ce3-2465-4628-8d65-cd7424ce7c2c",
   "metadata": {},
   "source": [
    "#### Cox anemia - peritonitis without binning residuals"
   ]
  },
  {
   "cell_type": "code",
   "execution_count": null,
   "id": "051e6fa4-db9b-41af-be61-64b53b21bb80",
   "metadata": {},
   "outputs": [],
   "source": [
    "a.calculate_residuals(cph_per, cox_df_per, martingale=True, schonenfeld=False)\n",
    "a.cox_visualization(cph_per, cox_df_per, survival_function=False, baseline_survival=True, baseline_cumulative_hazard=True, assumption=True) "
   ]
  },
  {
   "cell_type": "markdown",
   "id": "ca956f59-0d9e-4d3d-8feb-302e690d3400",
   "metadata": {},
   "source": [
    "### Extended COX (covariates anemia - peritonitis)"
   ]
  },
  {
   "cell_type": "code",
   "execution_count": null,
   "id": "daf2ff3c-db76-4606-b7cf-07fbede9f42c",
   "metadata": {},
   "outputs": [],
   "source": [
    "extended_cox_df = a.prepare_extended_cox_df(lab_df, per_df, covariate_list, study_time=365)\n",
    "\n",
    "# Initialize the CoxTimeVaryingFitter\n",
    "ctv = CoxTimeVaryingFitter()\n",
    "\n",
    "# Fit the data to the model\n",
    "ctv.fit(extended_cox_df, id_col='REGISTRO', event_col='event_col', start_col='start_col', stop_col='finish_col')\n",
    "\n",
    "# Print the summary of the model\n",
    "ctv.print_summary()\n",
    "\n",
    "# Plot the coefficients of the model\n",
    "ctv.plot()\n",
    "plt.show()"
   ]
  },
  {
   "cell_type": "markdown",
   "id": "1e48e45c-75e7-4991-96f1-f538fd473b1d",
   "metadata": {},
   "source": [
    "### Andersen-Gill anemia-peritonitis"
   ]
  },
  {
   "cell_type": "code",
   "execution_count": null,
   "id": "47c6a4ea-278e-4d34-85d9-28f021a200bf",
   "metadata": {},
   "outputs": [],
   "source": [
    "# Prepare the data\n",
    "# Clean NaNs for interesting columns\n",
    "lab_per_df = a.clean_df(merged_base_df, basic_cols_lab, verbose=True)\n",
    "lab_per_df = a.clean_df(lab_per_df, covariate_list, verbose=True)\n",
    "per_df = a.clean_df(per_base_df, basic_cols_per, verbose=True)\n",
    "\n",
    "# Select years\n",
    "lab_per_df, per_df = a.filter_by_year([lab_per_df, per_df], ['FECHA', 'FECHA'], 2010, 2023)\n",
    "\n",
    "# Add anemia column based on 'HEMOGLOBINA' and 'SEXO' specified in KDIGO guidelines\n",
    "a.add_anemia_column(lab_per_df)\n",
    "a.add_age_column(lab_per_df)\n",
    "a.add_ckd_column(lab_per_df)\n",
    "\n",
    "# Delete rows that have 0 as values for not_zero_cols\n",
    "\n",
    "lab_per_df = a.clean_zero_values(lab_per_df, not_zero_cols, verbose=True)\n",
    "\n",
    "# Fill empty values for bool_cols\n",
    "lab_per_df = a.bool_col_convert(lab_per_df, bool_col_list)\n",
    "\n",
    "# Exclude patients with exclude_list\n",
    "exclude_per_list = ['ITU', 'EPOC', 'NEO', 'SIST']\n",
    "#exclude_list = ['TBC', 'CH', 'SIST', 'CARDIO', 'VP', 'VC', 'NEO', 'DIVERT']\n",
    "lab_per_df = a.exclude_patients(lab_per_df, exclude_per_list, verbose=True)\n",
    "\n",
    "# Add days since the start of pd for every column in both dataframes\n",
    "lab_per_df = a.add_days_since_start(lab_per_df, lab_per_df, 'FECHA')\n",
    "per_df = a.add_days_since_start(lab_per_df, per_df, 'FECHA')\n",
    "\n",
    "# Now keep only the first year after the patients started PD\n",
    "lab_per_df = a.filter_df(lab_per_df, 'days_since_start', 0, (365), verbose=True)\n",
    "per_df = a.filter_df(per_df, 'days_since_start', 0, (365), verbose=True)\n",
    "\n",
    "ag_df = a.prepare_andersen_gill_df(lab_per_df, per_df, covariate_list, study_time=365)\n",
    "\n",
    "# Initialize the CoxTimeVaryingFitter\n",
    "ctv = CoxTimeVaryingFitter()\n",
    "\n",
    "# Fit the data to the model\n",
    "ctv.fit(ag_df, id_col='REGISTRO', event_col='event_col', start_col='start_col', stop_col='finish_col')\n",
    "\n",
    "# Print the summary of the model\n",
    "ctv.print_summary()\n",
    "\n",
    "# Plot the coefficients of the model\n",
    "ctv.plot()\n",
    "plt.show()"
   ]
  },
  {
   "cell_type": "markdown",
   "id": "bdf083f6-bfb5-4cba-971b-5c8bef331a58",
   "metadata": {},
   "source": [
    "### Extended COX diff filter"
   ]
  },
  {
   "cell_type": "code",
   "execution_count": null,
   "id": "491e80ec-7265-4a77-a968-d3bf83bf084b",
   "metadata": {},
   "outputs": [],
   "source": [
    "extended_cox_df = a.prepare_extended_cox_df(lab_per_df, per_df, covariate_list, study_time=365)\n",
    "\n",
    "# Initialize the CoxTimeVaryingFitter\n",
    "ctv = CoxTimeVaryingFitter()\n",
    "\n",
    "# Fit the data to the model\n",
    "ctv.fit(ag_df, id_col='REGISTRO', event_col='event_col', start_col='start_col', stop_col='finish_col')\n",
    "\n",
    "# Print the summary of the model\n",
    "ctv.print_summary()\n",
    "\n",
    "# Plot the coefficients of the model\n",
    "ctv.plot()\n",
    "plt.show()"
   ]
  },
  {
   "cell_type": "markdown",
   "id": "45088211-84cf-488b-9171-470ce6ef72b2",
   "metadata": {},
   "source": [
    "### Cox IST stratification and ROC curve (covariates hb-peritonitis)"
   ]
  },
  {
   "cell_type": "code",
   "execution_count": null,
   "id": "9ba4e46c-56fa-470b-a017-601495fc814d",
   "metadata": {},
   "outputs": [],
   "source": []
  },
  {
   "cell_type": "markdown",
   "id": "e8216f50-5e32-41ec-b747-75c9a8d2f1f8",
   "metadata": {},
   "source": [
    "## Random Survival Forest"
   ]
  },
  {
   "cell_type": "code",
   "execution_count": null,
   "id": "a7015175-5bca-4f63-9165-c2bb1adb6e17",
   "metadata": {
    "scrolled": true
   },
   "outputs": [],
   "source": [
    "rsf_df, y =a.prepare_rsf_df(lab_df, hosp_df, covariate_list)\n",
    "\n",
    "\n",
    "rsf = RandomSurvivalForest(n_estimators=1000)\n",
    "rsf.fit(rsf_df, y)"
   ]
  },
  {
   "cell_type": "markdown",
   "id": "bea59643-4c38-4517-b577-8bf127f2e5da",
   "metadata": {},
   "source": [
    "## Prevalencia de anemia en pacientes con ERC en DP"
   ]
  },
  {
   "cell_type": "markdown",
   "id": "235c217d-88d0-4e59-972a-3ec686c1268a",
   "metadata": {},
   "source": [
    "### Anemia prevalence stacked and by gener"
   ]
  },
  {
   "cell_type": "code",
   "execution_count": null,
   "id": "9699712e-529c-40f5-a1b2-65503e256383",
   "metadata": {},
   "outputs": [],
   "source": [
    "anemia_cols = ['HEMOGLOBINA', 'HIERRO', 'IST', 'FERRITINA', 'REGISTRO', 'FECHA']\n",
    "anemia_df = a.clean_df(merged_base_df, anemia_cols, verbose=True)\n",
    "a.add_anemia_column(anemia_df)\n",
    "anemia_df = a.filter_by_year([anemia_df], ['FECHA'], 2010, 2023)[0]\n",
    "\n",
    "ale_results_readable, female_results_readable, total_results_readable, df = a.anemia_prevalence_stack(anemia_df, [10, 11, 13], [10, 11, 12], [2010, 2023])"
   ]
  },
  {
   "cell_type": "markdown",
   "id": "e4f8a489-4d89-44c3-86fb-a8726c3f2623",
   "metadata": {},
   "source": [
    "## Tendencias marcadores de anemia"
   ]
  },
  {
   "cell_type": "code",
   "execution_count": null,
   "id": "3a5122b7-1605-44e9-84d1-aba68cf556aa",
   "metadata": {},
   "outputs": [],
   "source": [
    "# Calculate the average time between labs\n",
    "\n",
    "time_between_labs = a.lab_freq_stats(anemia_df, print_avg=True, print_patient=False)"
   ]
  },
  {
   "cell_type": "code",
   "execution_count": null,
   "id": "00ad1f88-c7d7-4d79-9558-28fbc3077f84",
   "metadata": {},
   "outputs": [],
   "source": [
    "time_trend_cols = ['HEMOGLOBINA', 'HIERRO', 'IST', 'FERRITINA', 'CKD_CALC']\n",
    "basic_cols = ['REGISTRO', 'FECHA','HEMOGLOBINA', 'HIERRO', 'IST', 'FERRITINA', 'INICIO_DP', 'NACIMIENTO']\n",
    "\n",
    "anemia_df = a.clean_df(merged_base_df, basic_cols, verbose=True)\n",
    "a.add_age_column(anemia_df)\n",
    "a.add_ckd_column(anemia_df)\n",
    "\n",
    "time_trend_df = a.time_trend_analysis(anemia_df, 64, time_trend_cols, 365, plot_results=True, t_test=True, normality_test=False)"
   ]
  },
  {
   "cell_type": "code",
   "execution_count": null,
   "id": "27abb2a0-1770-4780-9320-3e90d52394e3",
   "metadata": {},
   "outputs": [],
   "source": [
    "a.stationary_test(time_trend_df, col_str='_avg')"
   ]
  },
  {
   "cell_type": "markdown",
   "id": "68a692e6-ccd7-4b73-8b92-2826713ae4e9",
   "metadata": {},
   "source": [
    "## Baseline"
   ]
  },
  {
   "cell_type": "code",
   "execution_count": null,
   "id": "8c76f81f-4bec-4c1e-9a4e-6f11094a225f",
   "metadata": {},
   "outputs": [],
   "source": [
    "baseline = a.calculate_baseline(lab_df, baseline_cat_cols, baseline_num_cols)\n",
    "a.print_baseline(baseline)"
   ]
  },
  {
   "cell_type": "code",
   "execution_count": null,
   "id": "ce2783e1-841d-4e0e-9064-a040bd724159",
   "metadata": {},
   "outputs": [],
   "source": []
  }
 ],
 "metadata": {
  "kernelspec": {
   "display_name": "Python 3 (ipykernel)",
   "language": "python",
   "name": "python3"
  },
  "language_info": {
   "codemirror_mode": {
    "name": "ipython",
    "version": 3
   },
   "file_extension": ".py",
   "mimetype": "text/x-python",
   "name": "python",
   "nbconvert_exporter": "python",
   "pygments_lexer": "ipython3",
   "version": "3.11.8"
  }
 },
 "nbformat": 4,
 "nbformat_minor": 5
}
