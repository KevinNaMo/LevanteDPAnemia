{
 "cells": [
  {
   "cell_type": "markdown",
   "id": "562d5e62-a478-4074-a234-e78d27d3b7ba",
   "metadata": {},
   "source": [
    "# Anemia en Diálisis Peritoneal"
   ]
  },
  {
   "cell_type": "code",
   "execution_count": null,
   "id": "ba3822bb-2787-4190-8ead-31384ad99a6e",
   "metadata": {},
   "outputs": [],
   "source": [
    "from lifelines import CoxPHFitter\n",
    "from lifelines import CoxTimeVaryingFitter\n",
    "import matplotlib.pyplot as plt\n",
    "import pandas as pd\n",
    "\n",
    "import anemiaLevanteDP as a"
   ]
  },
  {
   "cell_type": "markdown",
   "id": "ff027c29-ef6c-4edd-8c9f-ba79f71194c2",
   "metadata": {},
   "source": [
    "## Load Data"
   ]
  },
  {
   "cell_type": "code",
   "execution_count": null,
   "id": "b1367737-80f6-49f7-a687-9bf23e6329ba",
   "metadata": {},
   "outputs": [],
   "source": [
    "#file_path = ['/home/jovyan/work/Data/LevanteDP/LevanteDPC.xls']\n",
    "file_path = ['/home/jovyan/work/Data/LevanteDP/LevanteDPC.xls', '/home/jovyan/work/Data/LevanteDP/LevanteDPPeset.xlsx']\n",
    "\n",
    "# Load data from excel file\n",
    "dfs_base = a.load_excel_files(file_path)\n",
    "merged_df = a.merge_dataframes(dfs_base['Analíticas'], dfs_base['Pacientes'], 'REGISTRO')\n",
    "\n",
    "# Save them as pickle for fast loading in testing\n",
    "merged_df.to_pickle('merged_df.pkl')\n",
    "dfs_base['Ingresos'].to_pickle('Ingresos.pkl')"
   ]
  },
  {
   "cell_type": "code",
   "execution_count": null,
   "id": "ea256e1a-d858-4de7-948d-92e73c6a47a9",
   "metadata": {},
   "outputs": [],
   "source": [
    "# Load the data\n",
    "merged_df = pd.read_pickle('merged_df.pkl')\n",
    "dfs_base['Ingresos'] = pd.read_pickle('Ingresos.pkl')"
   ]
  },
  {
   "cell_type": "markdown",
   "id": "bbffc1ee-0569-405a-aea1-81122865ce1e",
   "metadata": {},
   "source": [
    "## Preprocesado de datos"
   ]
  },
  {
   "cell_type": "code",
   "execution_count": null,
   "id": "18380c87-5c2a-4e8f-b638-1249f72a732a",
   "metadata": {},
   "outputs": [],
   "source": [
    "# Cols to calculate baseline\n",
    "baseline_cat_cols = ['SEXO', 'CKD_STAGE', 'ARRITMIA', 'ITU', 'TBC', 'DM', 'VC', 'DIVERT', 'NEO', 'CH', 'SIST', 'EPOC', 'CARDIO', 'VP', 'DISLIPEMIA', 'DIURETICO', 'CALCIOANTA', 'IECA', 'ARAII', 'BBLOQUEANTE', 'ABLOQUEANTE', 'ABBLOQUEANTE', 'AGONISTASC', 'VASODILATADOR']\n",
    "baseline_num_cols = ['EDAD', 'CKD_CALC', 'GLUCOSA', 'UREA', 'CREATININA', 'URICO', 'SODIO', 'POTASIO', 'CALCIO', 'FOSFORO', 'HIERRO', 'TRANSFERRINA', 'IST', 'FERRITINA', 'COLESTEROL', 'TRIGLICERIDOS', 'HDL', 'LDL', 'LEUCOCITOS', 'NEUTROFILOS', 'LINFOCITOS', 'MONOCITOS', 'EOSINOFILOS', 'BASOFILOS', 'GRANULOCITOS', 'HEMATIES', 'HEMOGLOBINA', 'HEMATOCRITO', 'VCM', 'HCM', 'CHCM', 'PLAQUETAS', 'PLAQUETOCRITO', 'VPM']\n",
    "\n",
    "# Cols to clean rows without info\n",
    "basic_cols_lab = ['REGISTRO', 'FECHA', 'HEMOGLOBINA', 'INICIO_DP']\n",
    "basic_cols_hosp = ['REGISTRO', 'FINGRESO']\n",
    "basic_cols_per = ['REGISTRO', 'FECHA']\n",
    "\n",
    "# Cols for cox model\n",
    "bool_col_list = ['CARDIORENAL', 'PASO_A_HD', 'ARRITMIA', 'ITU', 'TBC', 'DM', 'VC', 'DIVERT', 'NEO', 'CH', 'SIST', 'EPOC', 'CARDIO', 'VP', 'DISLIPEMIA', 'FRAGNOS', 'DIURETICO', 'CALCIOANTA', 'IECA', 'ARAII', 'BBLOQUEANTE', 'ABLOQUEANTE', 'ABBLOQUEANTE', 'AGONISTASC', 'VASODILATADOR', 'OTROSFR', 'CIRUGIA']\n",
    "covariate_list = ['HEMOGLOBINA', 'IST', 'HIERRO']\n",
    "exclude_list = ['CARDIO']"
   ]
  },
  {
   "cell_type": "code",
   "execution_count": null,
   "id": "6ab4af2c-4e4c-48d1-9f1f-176e251cf5f9",
   "metadata": {},
   "outputs": [],
   "source": [
    "# Clean NaNs for interesting columns\n",
    "lab_df = a.clean_df(merged_df, basic_cols_lab, verbose=True)\n",
    "lab_df = a.clean_df(lab_df, covariate_list, verbose=True)\n",
    "hosp_df = a.clean_df(dfs_base['Ingresos'], basic_cols_hosp, verbose=True)\n",
    "per_df = a.clean_df(dfs_base['Peritonitis'], basic_cols_per, verbose=True)\n",
    "\n",
    "# Select years\n",
    "lab_df, hosp_df, per_df = a.filter_by_year([lab_df, hosp_df, per_df], ['FECHA', 'FINGRESO', 'FECHA'], 2009, 2024)\n",
    "\n",
    "\n",
    "# Add anemia column based on 'HEMOGLOBINA' and 'SEXO' specified in KDIGO guidelines\n",
    "a.add_anemia_column(lab_df)\n",
    "a.add_age_column(lab_df)\n",
    "a.add_ckd_column(lab_df)\n",
    "\n",
    "# Fill empty values for bool_cols\n",
    "lab_df = a.bool_col_convert(lab_df, bool_col_list)\n",
    "\n",
    "# Exclude patients with exclude_list\n",
    "#lab_df = lab_df[lab_df['ICEDAD'] <= 11]\n",
    "lab_df = a.exclude_patients(lab_df, exclude_list, verbose=True)\n",
    "\n",
    "# Add days since the start of pd for every column in both dataframes\n",
    "lab_df = a.add_days_since_start(lab_df, lab_df, 'FECHA')\n",
    "hosp_df = a.add_days_since_start(lab_df, hosp_df, 'FINGRESO')\n",
    "per_df = a.add_days_since_start(lab_df, per_df, 'FECHA')\n",
    "\n",
    "\n",
    "# Now keep only the first year after the patients started PD\n",
    "lab_df = a.filter_df(lab_df, 'days_since_start', 0, (365), verbose=True)\n",
    "hosp_df = a.filter_df(hosp_df, 'days_since_start', 0, (365), verbose=True)\n",
    "per_df = a.filter_df(per_df, 'days_since_start', 0, (365), verbose=True)\n",
    "\n",
    "# Create the cox_df with all necessary data\n",
    "cox_df = a.prepare_cox_df(lab_df, hosp_df, covariate_list)\n",
    "cox_time_varying_df = a.cox_time_varying_prep(lab_df, hosp_df, covariate_list, 365)\n",
    "\n",
    "cox_df_per = a.prepare_cox_df(lab_df, per_df, covariate_list)"
   ]
  },
  {
   "cell_type": "code",
   "execution_count": null,
   "id": "1a8ea77b-e341-412d-8979-a69a59d2d1b9",
   "metadata": {},
   "outputs": [],
   "source": [
    "print(lab_df['CARDIO'].head())"
   ]
  },
  {
   "cell_type": "markdown",
   "id": "55881d59-1a47-4eda-89c1-d9b3301bbd50",
   "metadata": {},
   "source": [
    "## 6.1 Cox hemoglobina - hospitalización"
   ]
  },
  {
   "cell_type": "code",
   "execution_count": null,
   "id": "94acc38b-587f-4f0e-a87c-5773b5f740a0",
   "metadata": {},
   "outputs": [],
   "source": [
    "# Initialize the CoxPHFitter\n",
    "\n",
    "cph_hosp = CoxPHFitter()\n",
    "\n",
    "# Fit the data to the model\n",
    "cph_hosp.fit(cox_df, duration_col='finish_days', event_col='event_col')\n",
    "\n",
    "# Print the summary of the model\n",
    "cph_hosp.print_summary()\n",
    "\n",
    "# Plot the coefficients of the model\n",
    "cph_hosp.plot()\n",
    "plt.title('Coxph anemia - hospitalización')\n",
    "plt.show()"
   ]
  },
  {
   "cell_type": "code",
   "execution_count": null,
   "id": "7dbf1ebd-1334-47dd-8e83-89b62edb6bb3",
   "metadata": {},
   "outputs": [],
   "source": [
    "a.calculate_residuals(cph_hosp, cox_df, martingale=True, schonenfeld=False)"
   ]
  },
  {
   "cell_type": "code",
   "execution_count": null,
   "id": "ce9bf415-8157-4e8d-8bad-6970339ed35e",
   "metadata": {},
   "outputs": [],
   "source": [
    "a.cox_visualization(cph_hosp, cox_df, survival_function=False, baseline_survival=True, baseline_cumulative_hazard=True, assumption=True) "
   ]
  },
  {
   "cell_type": "markdown",
   "id": "0e0ab9d8-7d31-43b9-858d-61954625a326",
   "metadata": {},
   "source": [
    "## 6.3 Cox hemoglobina - peritonitis"
   ]
  },
  {
   "cell_type": "code",
   "execution_count": null,
   "id": "5b837601-35a5-4c91-8ac6-464d6862149c",
   "metadata": {},
   "outputs": [],
   "source": [
    "# Initialize the CoxPHFitter\n",
    "\n",
    "cph_per = CoxPHFitter()\n",
    "\n",
    "# Fit the data to the model\n",
    "cph_per.fit(cox_df_per, duration_col='finish_days', event_col='event_col')\n",
    "\n",
    "# Print the summary of the model\n",
    "cph_per.print_summary()\n",
    "\n",
    "# Plot the coefficients of the model\n",
    "cph_per.plot()\n",
    "plt.show()"
   ]
  },
  {
   "cell_type": "code",
   "execution_count": null,
   "id": "db133d6a-c109-4de4-bf74-6d359098f4f5",
   "metadata": {},
   "outputs": [],
   "source": [
    "a.calculate_residuals(cph_per, cox_df_per, martingale=True, schonenfeld=False)"
   ]
  },
  {
   "cell_type": "code",
   "execution_count": null,
   "id": "3e1457e9-9a2f-435d-aa5f-eed06dc248cb",
   "metadata": {},
   "outputs": [],
   "source": [
    "a.cox_visualization(cph_per, cox_df_per, survival_function=False, baseline_survival=True, baseline_cumulative_hazard=True, assumption=True) "
   ]
  },
  {
   "cell_type": "markdown",
   "id": "bea59643-4c38-4517-b577-8bf127f2e5da",
   "metadata": {},
   "source": [
    "## Prevalencia de anemia en pacientes con ERC en DP"
   ]
  },
  {
   "cell_type": "code",
   "execution_count": null,
   "id": "6464a8fd-99e5-4d41-a9e4-8d43f89da8d8",
   "metadata": {},
   "outputs": [],
   "source": [
    "# Reload the full dataframe without filtering\n",
    "\n",
    "anemia_cols = ['HEMOGLOBINA', 'HIERRO', 'IST', 'FERRITINA', 'REGISTRO', 'FECHA']\n",
    "merged_df = pd.read_pickle('merged_df.pkl')\n",
    "anemia_df = a.clean_df(merged_df, anemia_cols, verbose=True)\n",
    "a.add_anemia_column(anemia_df)\n",
    "anemia_df = a.filter_by_year([anemia_df], ['FECHA'], 2009, 2023)[0]\n",
    "anemia_prevalence = a.anemia_prevalence(anemia_df, print_results=True, print_graph=True, tendency=True)"
   ]
  },
  {
   "cell_type": "markdown",
   "id": "e4f8a489-4d89-44c3-86fb-a8726c3f2623",
   "metadata": {},
   "source": [
    "## Tendencias marcadores de anemia"
   ]
  },
  {
   "cell_type": "code",
   "execution_count": null,
   "id": "3a5122b7-1605-44e9-84d1-aba68cf556aa",
   "metadata": {},
   "outputs": [],
   "source": [
    "# Calculate the average time between labs\n",
    "\n",
    "time_between_labs = a.lab_freq_stats(anemia_df, print_avg=True, print_patient=False)"
   ]
  },
  {
   "cell_type": "code",
   "execution_count": null,
   "id": "00ad1f88-c7d7-4d79-9558-28fbc3077f84",
   "metadata": {},
   "outputs": [],
   "source": [
    "time_trend_cols = ['HEMOGLOBINA', 'HIERRO', 'IST', 'FERRITINA', 'CKD_CALC']\n",
    "\n",
    "a.add_age_column(anemia_df)\n",
    "a.add_ckd_column(anemia_df)\n",
    "\n",
    "time_trend_df = a.time_trend_analysis(anemia_df, 64, time_trend_cols, 365, plot_results=True, t_test=True)"
   ]
  },
  {
   "cell_type": "code",
   "execution_count": null,
   "id": "27abb2a0-1770-4780-9320-3e90d52394e3",
   "metadata": {},
   "outputs": [],
   "source": [
    "a.stationary_test(time_trend_df, col_str='_avg')"
   ]
  },
  {
   "cell_type": "code",
   "execution_count": null,
   "id": "658633c4-85a8-47af-b1ac-06c19711c62e",
   "metadata": {},
   "outputs": [],
   "source": [
    "print(time_trend_df)"
   ]
  },
  {
   "cell_type": "markdown",
   "id": "68a692e6-ccd7-4b73-8b92-2826713ae4e9",
   "metadata": {},
   "source": [
    "## Baseline"
   ]
  },
  {
   "cell_type": "code",
   "execution_count": null,
   "id": "8c76f81f-4bec-4c1e-9a4e-6f11094a225f",
   "metadata": {},
   "outputs": [],
   "source": [
    "baseline = a.calculate_baseline(lab_df, baseline_cat_cols, baseline_num_cols)\n",
    "a.print_baseline(baseline)"
   ]
  }
 ],
 "metadata": {
  "kernelspec": {
   "display_name": "Python 3 (ipykernel)",
   "language": "python",
   "name": "python3"
  },
  "language_info": {
   "codemirror_mode": {
    "name": "ipython",
    "version": 3
   },
   "file_extension": ".py",
   "mimetype": "text/x-python",
   "name": "python",
   "nbconvert_exporter": "python",
   "pygments_lexer": "ipython3",
   "version": "3.11.8"
  }
 },
 "nbformat": 4,
 "nbformat_minor": 5
}
